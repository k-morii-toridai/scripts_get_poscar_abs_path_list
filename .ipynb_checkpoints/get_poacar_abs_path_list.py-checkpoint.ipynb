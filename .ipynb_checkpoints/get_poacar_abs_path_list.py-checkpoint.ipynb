{
 "cells": [
  {
   "cell_type": "code",
   "execution_count": 2,
   "id": "cc7c995e-2a1f-4ebe-84cb-67d846fd524a",
   "metadata": {
    "tags": []
   },
   "outputs": [
    {
     "name": "stderr",
     "output_type": "stream",
     "text": [
      "100%|█████████████████████████████████████████████████████████████████████████████████████████████████████████████████████████| 9/9 [00:00<00:00, 123.40it/s]\n",
      "100%|████████████████████████████████████████████████████████████████████████████████████████████████████████████████████████| 77/77 [00:00<00:00, 81.84it/s]\n",
      "100%|████████████████████████████████████████████████████████████████████████████████████████████████████████████████████| 6927/6927 [01:48<00:00, 63.99it/s]\n"
     ]
    }
   ],
   "source": [
    "import time\n",
    "from pathlib import Path\n",
    "import re\n",
    "from tqdm import tqdm\n",
    "import subprocess\n",
    "import numpy as np\n",
    "\n",
    "\n",
    "def get_subdir_list(p_sub_list):\n",
    "    \"\"\"\n",
    "    To get a sub directory path list, Use thie func().\n",
    "    \n",
    "    pram: p_aub_list: specify a directory which sub dirs is gotten from.\n",
    "    \"\"\"\n",
    "    # 引数の直下のディレクトリ・パスの一覧を取得\n",
    "    sub_dir_list_temp = []\n",
    "    for p_sub in tqdm(p_sub_list):\n",
    "        sub_dir_list_temp.append([p_s_s for p_s_s in p_sub.iterdir()])\n",
    "    # ２次元リストを１次元リスト化\n",
    "    return sum(sub_dir_list_temp, [])\n",
    "\n",
    "\n",
    "p = Path('/mnt/ssd_elecom_black_c2c/cif/')\n",
    "p_sub_list = [p_s for p_s in p.glob('[1-9]')]\n",
    "\n",
    "cif_path_list = get_subdir_list(get_subdir_list(get_subdir_list(p_sub_list)))\n",
    "print(f\"len(cif_path_list): {len(cif_path_list)}\")"
   ]
  },
  {
   "cell_type": "code",
   "execution_count": 21,
   "id": "fce9c16d-6a34-4c15-a257-314043a16fdb",
   "metadata": {
    "tags": []
   },
   "outputs": [],
   "source": [
    "def poscar_folder_filter(path):   \n",
    "    path_str = str(path)\n",
    "    return not('.cif' in path_str)"
   ]
  },
  {
   "cell_type": "code",
   "execution_count": 42,
   "id": "77e6c034-6d74-40c8-9b6a-b6b05c0a0447",
   "metadata": {
    "tags": []
   },
   "outputs": [],
   "source": [
    "poscar_folder_path_list_filter = list(map(poscar_folder_filter, cif_path_list))\n",
    "poscar_folder_path_list = np.array(cif_path_list)[poscar_folder_path_list_filter]"
   ]
  },
  {
   "cell_type": "code",
   "execution_count": 43,
   "id": "41be1dde-d6c8-4263-8c3b-c57bfcf76785",
   "metadata": {
    "tags": []
   },
   "outputs": [
    {
     "name": "stdout",
     "output_type": "stream",
     "text": [
      "len(poscar_folder_path_list): 507142\n"
     ]
    }
   ],
   "source": [
    "print(f\"len(poscar_folder_path_list): {len(poscar_folder_path_list)}\")"
   ]
  },
  {
   "cell_type": "code",
   "execution_count": 44,
   "id": "471433b7-2210-4aa1-b510-af0fdad605ae",
   "metadata": {
    "tags": []
   },
   "outputs": [
    {
     "data": {
      "text/plain": [
       "array([PosixPath('/mnt/ssd_elecom_black_c2c/cif/1/00/00/1000000'),\n",
       "       PosixPath('/mnt/ssd_elecom_black_c2c/cif/1/00/00/1000001'),\n",
       "       PosixPath('/mnt/ssd_elecom_black_c2c/cif/1/00/00/1000002'), ...,\n",
       "       PosixPath('/mnt/ssd_elecom_black_c2c/cif/9/01/79/9017918'),\n",
       "       PosixPath('/mnt/ssd_elecom_black_c2c/cif/9/01/79/9017919'),\n",
       "       PosixPath('/mnt/ssd_elecom_black_c2c/cif/9/01/79/9017920')],\n",
       "      dtype=object)"
      ]
     },
     "execution_count": 44,
     "metadata": {},
     "output_type": "execute_result"
    }
   ],
   "source": [
    "poscar_folder_path_list"
   ]
  },
  {
   "cell_type": "code",
   "execution_count": 48,
   "id": "0ae6c930-f0fd-40c5-b1e0-d039ec2e5f4d",
   "metadata": {
    "tags": []
   },
   "outputs": [
    {
     "name": "stderr",
     "output_type": "stream",
     "text": [
      "100%|███████████████████████████████████████████████████████████████████████████████████████████████████████████████| 507142/507142 [15:36<00:00, 541.33it/s]\n"
     ]
    },
    {
     "ename": "NameError",
     "evalue": "name 'itertools' is not defined",
     "output_type": "error",
     "traceback": [
      "\u001b[0;31m---------------------------------------------------------------------------\u001b[0m",
      "\u001b[0;31mNameError\u001b[0m                                 Traceback (most recent call last)",
      "Cell \u001b[0;32mIn[48], line 14\u001b[0m\n\u001b[1;32m     12\u001b[0m     poscar_mixed_path_list \u001b[38;5;241m=\u001b[39m \u001b[38;5;28mlist\u001b[39m(tqdm(pp\u001b[38;5;241m.\u001b[39mimap(iterdir_func, poscar_folder_path_list), total\u001b[38;5;241m=\u001b[39m\u001b[38;5;28mlen\u001b[39m(poscar_folder_path_list)))\n\u001b[1;32m     13\u001b[0m     \u001b[38;5;66;03m# flatten\u001b[39;00m\n\u001b[0;32m---> 14\u001b[0m     poscar_mixed_path_list \u001b[38;5;241m=\u001b[39m \u001b[43mflatten_func\u001b[49m\u001b[43m(\u001b[49m\u001b[43mposcar_mixed_path_list\u001b[49m\u001b[43m)\u001b[49m\n\u001b[1;32m     16\u001b[0m \u001b[38;5;28;01mfinally\u001b[39;00m:\n\u001b[1;32m     17\u001b[0m     pp\u001b[38;5;241m.\u001b[39mclose()\n",
      "Cell \u001b[0;32mIn[48], line 6\u001b[0m, in \u001b[0;36mflatten_func\u001b[0;34m(list_2dim)\u001b[0m\n\u001b[1;32m      5\u001b[0m \u001b[38;5;28;01mdef\u001b[39;00m \u001b[38;5;21mflatten_func\u001b[39m(list_2dim):\n\u001b[0;32m----> 6\u001b[0m     \u001b[38;5;28;01mreturn\u001b[39;00m \u001b[38;5;28mlist\u001b[39m(\u001b[43mitertools\u001b[49m\u001b[38;5;241m.\u001b[39mchain\u001b[38;5;241m.\u001b[39mfrom_iterable(list_2dim))\n",
      "\u001b[0;31mNameError\u001b[0m: name 'itertools' is not defined"
     ]
    }
   ],
   "source": [
    "from multiprocessing import Pool, cpu_count \n",
    "def iterdir_func(poscar_dir):\n",
    "    return list(poscar_dir.iterdir())\n",
    "    \n",
    "def flatten_func(list_2dim):\n",
    "    return list(itertools.chain.from_iterable(list_2dim))\n",
    "\n",
    "# 並列化\n",
    "try:\n",
    "    pp = Pool(cpu_count() - 1)\n",
    "    # iterdir\n",
    "    poscar_mixed_path_list = list(tqdm(pp.imap(iterdir_func, poscar_folder_path_list), total=len(poscar_folder_path_list)))\n",
    "    # flatten\n",
    "    poscar_mixed_path_list = flatten_func(poscar_mixed_path_list)\n",
    "    \n",
    "finally:\n",
    "    pp.close()\n",
    "    pp.join()"
   ]
  },
  {
   "cell_type": "code",
   "execution_count": 49,
   "id": "19f103f9-f7c5-463e-861d-9e2f7700f899",
   "metadata": {
    "tags": []
   },
   "outputs": [],
   "source": [
    "# flatten\n",
    "import itertools\n",
    "poscar_mixed_path_list = flatten_func(poscar_mixed_path_list)"
   ]
  },
  {
   "cell_type": "code",
   "execution_count": 58,
   "id": "3175286c-f9b3-4247-8a05-9e65ddd6b2e2",
   "metadata": {
    "tags": []
   },
   "outputs": [
    {
     "name": "stdout",
     "output_type": "stream",
     "text": [
      "len(poscar_file_path_list): 308325\n"
     ]
    }
   ],
   "source": [
    "def poscar_file_filter(path):\n",
    "    pattern = '.+/POSCAR$'\n",
    "    string = str(path)\n",
    "    return re.search(pattern, string)\n",
    "\n",
    "poscar_file_path_list = [path for path in poscar_mixed_path_list if poscar_file_filter(path)]\n",
    "print(f\"len(poscar_file_path_list): {len(poscar_file_path_list)}\")\n",
    "np.save('poscar_abs_path_list.npy', np.array(poscar_file_path_list))"
   ]
  },
  {
   "cell_type": "code",
   "execution_count": null,
   "id": "06e3d30c-14a2-42ca-ab34-5dbb7020b898",
   "metadata": {},
   "outputs": [],
   "source": []
  },
  {
   "cell_type": "code",
   "execution_count": 59,
   "id": "947f1633-5f10-4a1b-a37d-f56aee8ec37a",
   "metadata": {
    "tags": []
   },
   "outputs": [],
   "source": [
    "# poscar_abs_path_list.npyをload\n",
    "poscar_abs_path_list_loaded = np.load('poscar_abs_path_list.npy', allow_pickle=True)"
   ]
  }
 ],
 "metadata": {
  "kernelspec": {
   "display_name": "Python 3 (ipykernel)",
   "language": "python",
   "name": "python3"
  },
  "language_info": {
   "codemirror_mode": {
    "name": "ipython",
    "version": 3
   },
   "file_extension": ".py",
   "mimetype": "text/x-python",
   "name": "python",
   "nbconvert_exporter": "python",
   "pygments_lexer": "ipython3",
   "version": "3.10.12"
  }
 },
 "nbformat": 4,
 "nbformat_minor": 5
}
