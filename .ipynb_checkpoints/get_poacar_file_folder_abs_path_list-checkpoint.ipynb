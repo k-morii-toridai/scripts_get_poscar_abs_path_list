{
 "cells": [
  {
   "cell_type": "code",
   "execution_count": 1,
   "id": "2fa23dd6-a8ac-4c7a-804d-34fda142dbfc",
   "metadata": {
    "tags": []
   },
   "outputs": [],
   "source": [
    "import re\n",
    "import itertools\n",
    "from tqdm import tqdm\n",
    "from pathlib import Path\n",
    "from multiprocessing import Pool, cpu_count\n",
    "\n",
    "import numpy as np"
   ]
  },
  {
   "cell_type": "code",
   "execution_count": 5,
   "id": "2f34cd37-c4b3-4bf5-bb9e-679510edd574",
   "metadata": {
    "tags": []
   },
   "outputs": [],
   "source": [
    "def iterdir_func(poscar_dir):\n",
    "    return list(poscar_dir.iterdir())\n",
    "\n",
    "\n",
    "def flatten_func(list_2dim):\n",
    "    return list(itertools.chain.from_iterable(list_2dim))\n",
    "\n",
    "\n",
    "def get_subdir_list(dir_list):\n",
    "    return flatten_func(list(map(iterdir_func, dir_list)))"
   ]
  },
  {
   "cell_type": "code",
   "execution_count": 16,
   "id": "7f0fb617-b698-4e41-a830-e13f824d4dc0",
   "metadata": {
    "tags": []
   },
   "outputs": [],
   "source": [
    "p = Path('/mnt/ssd_elecom_black_c2c/cif/')\n",
    "p_s_list = [p_sub_folder for p_sub_folder in p.glob('[1-9]')]"
   ]
  },
  {
   "cell_type": "code",
   "execution_count": 17,
   "id": "ad643d13-2551-4d50-b934-71b840c14abc",
   "metadata": {
    "tags": []
   },
   "outputs": [],
   "source": [
    "p_ssss_list = get_subdir_list(get_subdir_list(get_subdir_list(p_sub_list)))"
   ]
  },
  {
   "cell_type": "code",
   "execution_count": 38,
   "id": "4251888f-6505-4204-95c0-5c4e7bca2d3c",
   "metadata": {
    "tags": []
   },
   "outputs": [],
   "source": [
    "def poscar_folder_filter(path):\n",
    "    pattern = '[0-9]{6}$'  # 正規表現（：末尾が数字６文字で終わる）\n",
    "    string = str(path)\n",
    "    return bool(re.search(pattern, string))"
   ]
  },
  {
   "cell_type": "code",
   "execution_count": 39,
   "id": "4c647aa0-6339-45e2-832e-3cddd58e5d26",
   "metadata": {
    "tags": []
   },
   "outputs": [],
   "source": [
    "# make filter\n",
    "poscar_folder_path_list_filter = list(map(poscar_folder_filter, p_ssss_list))"
   ]
  },
  {
   "cell_type": "code",
   "execution_count": 45,
   "id": "b764dd14-874e-4b6e-92d9-93ff742ee402",
   "metadata": {
    "tags": []
   },
   "outputs": [
    {
     "name": "stdout",
     "output_type": "stream",
     "text": [
      "len(poscar_folder_path_list): 507142\n"
     ]
    }
   ],
   "source": [
    "# apply filter to p_ssss_list\n",
    "poscar_folder_path_list = np.array(p_ssss_list)[poscar_folder_path_list_filter]\n",
    "print(f'len(poscar_folder_path_list): {len(poscar_folder_path_list)}')\n",
    "# save as .npy file\n",
    "np.save('poscar_folder_abs_path_list.npy', poscar_folder_path_list)"
   ]
  },
  {
   "cell_type": "code",
   "execution_count": null,
   "id": "7df96afb-4197-4034-af24-64809fb0c1f1",
   "metadata": {},
   "outputs": [],
   "source": []
  },
  {
   "cell_type": "code",
   "execution_count": 47,
   "id": "1ff06e60-7f9a-4fdf-aba3-c8668aec1fc5",
   "metadata": {
    "tags": []
   },
   "outputs": [
    {
     "name": "stderr",
     "output_type": "stream",
     "text": [
      "100%|███████████████████████████████████████████████████████████████████████████████████████████████████████████████| 507142/507142 [11:48<00:00, 716.28it/s]\n"
     ]
    }
   ],
   "source": [
    "# 並列化(POSCARファイルのあるディレクトリの，ファイルorフォルダ一覧を取得)\n",
    "try:\n",
    "    pp = Pool(cpu_count() - 1)\n",
    "    # iterdir\n",
    "    poscar_mixed_path_list = list(tqdm(pp.imap(iterdir_func, poscar_folder_path_list), total=len(poscar_folder_path_list)))\n",
    "    # flatten\n",
    "    poscar_mixed_path_list = flatten_func(poscar_mixed_path_list)\n",
    "finally:\n",
    "    pp.close()\n",
    "    pp.join()"
   ]
  },
  {
   "cell_type": "code",
   "execution_count": 48,
   "id": "50672262-1329-4249-a00d-b93da962745b",
   "metadata": {
    "tags": []
   },
   "outputs": [],
   "source": [
    "def poscar_file_filter(path):\n",
    "    pattern = '[0-9]{6}/POSCAR$'  # 正規表現（：末尾が '数字６桁/POSCAR'で終わる）\n",
    "    string = str(path)\n",
    "    return bool(re.search(pattern, string))"
   ]
  },
  {
   "cell_type": "code",
   "execution_count": 49,
   "id": "51e5b1e0-9f9e-4f1d-ba14-344525844f90",
   "metadata": {
    "tags": []
   },
   "outputs": [],
   "source": [
    "# make filter\n",
    "poscar_file_path_list_filter = list(map(poscar_file_filter, poscar_mixed_path_list))"
   ]
  },
  {
   "cell_type": "code",
   "execution_count": 52,
   "id": "ba10fac3-fd2d-4070-8cda-5cf1fab4873e",
   "metadata": {
    "tags": []
   },
   "outputs": [
    {
     "name": "stdout",
     "output_type": "stream",
     "text": [
      "len(poscar_file_path_list): 308325\n"
     ]
    }
   ],
   "source": [
    "# apply filter to poscar_mixed_path_list\n",
    "poscar_file_path_list = np.array(poscar_mixed_path_list)[poscar_file_path_list_filter]\n",
    "print(f\"len(poscar_file_path_list): {len(poscar_file_path_list)}\")"
   ]
  },
  {
   "cell_type": "code",
   "execution_count": 53,
   "id": "40772de9-4959-4475-9385-5a159272842f",
   "metadata": {
    "tags": []
   },
   "outputs": [],
   "source": [
    "# save poscar_file_path_list as .npy\n",
    "np.save('poscar_abs_path_list.npy', poscar_file_path_list)"
   ]
  }
 ],
 "metadata": {
  "kernelspec": {
   "display_name": "Python 3 (ipykernel)",
   "language": "python",
   "name": "python3"
  },
  "language_info": {
   "codemirror_mode": {
    "name": "ipython",
    "version": 3
   },
   "file_extension": ".py",
   "mimetype": "text/x-python",
   "name": "python",
   "nbconvert_exporter": "python",
   "pygments_lexer": "ipython3",
   "version": "3.10.12"
  }
 },
 "nbformat": 4,
 "nbformat_minor": 5
}
